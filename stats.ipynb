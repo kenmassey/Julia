{
 "cells": [
  {
   "cell_type": "code",
   "execution_count": 1,
   "metadata": {
    "collapsed": false
   },
   "outputs": [
    {
     "data": {
      "text/plain": [
       "5x1 Array{Float64,2}:\n",
       " 0.856982\n",
       " 0.726731\n",
       " 0.63581 \n",
       " 0.793106\n",
       " 0.772249"
      ]
     },
     "execution_count": 1,
     "metadata": {},
     "output_type": "execute_result"
    }
   ],
   "source": [
    "x=rand(5,1)"
   ]
  },
  {
   "cell_type": "code",
   "execution_count": 2,
   "metadata": {
    "collapsed": false
   },
   "outputs": [
    {
     "data": {
      "text/plain": [
       "0.7569755416248249"
      ]
     },
     "execution_count": 2,
     "metadata": {},
     "output_type": "execute_result"
    }
   ],
   "source": [
    "mean(x)"
   ]
  },
  {
   "cell_type": "code",
   "execution_count": 1,
   "metadata": {
    "collapsed": true
   },
   "outputs": [],
   "source": [
    "using Requests;"
   ]
  },
  {
   "cell_type": "code",
   "execution_count": 3,
   "metadata": {
    "collapsed": false
   },
   "outputs": [
    {
     "data": {
      "text/plain": [
       "Response(200 OK, 11 headers, 16593 bytes in body)"
      ]
     },
     "execution_count": 3,
     "metadata": {},
     "output_type": "execute_result"
    }
   ],
   "source": [
    "res=get(\"http://www.thepredictiontracker.com/ncaapredictions.csv\")"
   ]
  },
  {
   "cell_type": "code",
   "execution_count": 4,
   "metadata": {
    "collapsed": false
   },
   "outputs": [
    {
     "data": {
      "text/plain": [
       "41x82 Array{Any,2}:\n",
       " \"home\"             \"road\"              …    \"linemedian\"    \"lineca\"\n",
       " \"Alabama\"          \"Michigan St.\"          7.27818        10        \n",
       " \"Appalachian St.\"  \"Ohio\"                  7.145           7.5      \n",
       " \"Arizona St.\"      \"West Va.\"             -3              -1        \n",
       " \"Arkansas\"         \"Kansas St.\"            9.03           12        \n",
       " \"Auburn\"           \"Memphis\"           …  -2.695           2        \n",
       " \"Bowling Green\"    \"Georgia Southern\"      9.87            7.5      \n",
       " \"California\"       \"Air Force\"             7.45            7        \n",
       " \"Clemson\"          \"Oklahoma\"             -4.61758        -4.5      \n",
       " \"Colorado St.\"     \"Nevada\"                3.253           3        \n",
       " \"Duke\"             \"Indiana\"           …   2              -1        \n",
       " \"Florida St.\"      \"Houston\"               5.5             7        \n",
       " \"Georgia\"          \"Penn St.\"              6               6.5      \n",
       " ⋮                                      ⋱   ⋮                        \n",
       " \"South Florida\"    \"Western Kentucky\"     -2.34           -1.5      \n",
       " \"Stanford\"         \"Iowa\"              …   4.87            6        \n",
       " \"Temple\"           \"Toledo\"               -0.249092        1.5      \n",
       " \"Texas A&M\"        \"Louisville\"            2              -3        \n",
       " \"UCLA\"             \"Nebraska\"              6.03            6        \n",
       " \"USC\"              \"Wisconsin\"             2.565           3        \n",
       " \"Utah\"             \"BYU\"               …   2.745           3        \n",
       " \"Utah St.\"         \"Akron\"                 5.3225          6.5      \n",
       " \"Virginia Tech\"    \"Tulsa\"                14.7588         13.5      \n",
       " \"Washington\"       \"Southern Miss.\"        9.975           8.5      \n",
       " \"Washington St.\"   \"Miami (Fla.)\"          0.302           3        \n",
       " \"Western Mich.\"    \"Middle Tenn.\"      …   5.97529         3.5      "
      ]
     },
     "execution_count": 4,
     "metadata": {},
     "output_type": "execute_result"
    }
   ],
   "source": [
    "mycsv = readcsv(IOBuffer(res.data))"
   ]
  },
  {
   "cell_type": "code",
   "execution_count": null,
   "metadata": {
    "collapsed": true
   },
   "outputs": [],
   "source": []
  }
 ],
 "metadata": {
  "kernelspec": {
   "display_name": "Julia 0.4.2",
   "language": "julia",
   "name": "julia-0.4"
  },
  "language_info": {
   "file_extension": ".jl",
   "mimetype": "application/julia",
   "name": "julia",
   "version": "0.4.2"
  }
 },
 "nbformat": 4,
 "nbformat_minor": 0
}
